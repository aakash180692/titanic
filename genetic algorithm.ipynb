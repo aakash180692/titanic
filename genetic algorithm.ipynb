{
 "cells": [
  {
   "cell_type": "code",
   "execution_count": 1,
   "metadata": {},
   "outputs": [],
   "source": [
    "import math as math\n",
    "import pandas as pd\n",
    "import numpy as np\n",
    "from catboost import CatBoostClassifier\n",
    "import datetime\n",
    "import random as random\n",
    "from copy import deepcopy\n",
    "from tqdm import tqdm_notebook as tqdm"
   ]
  },
  {
   "cell_type": "code",
   "execution_count": 2,
   "metadata": {},
   "outputs": [],
   "source": [
    "# data preparation\n",
    "test_data = pd.read_csv('test.csv')\n",
    "train_data = pd.read_csv('train.csv')\n",
    "gender_subm = pd.read_csv('gender_submission.csv')\n",
    "\n",
    "train_data['Cabin_letter'] = train_data.Cabin.str[0:1]\n",
    "test_data['Cabin_letter'] = test_data.Cabin.str[0:1]\n",
    "\n",
    "train_data.shape, test_data.shape\n",
    "\n",
    "msk = np.random.rand(len(train_data)) < 0.6\n",
    "train = train_data[msk]\n",
    "temp = train_data[~msk]\n",
    "\n",
    "msk2 = np.random.rand(len(temp)) < 0.5\n",
    "test = temp[msk2]\n",
    "val = temp[~msk2]\n",
    "\n",
    "X_train = train.drop(['PassengerId','Name', 'Ticket', 'Cabin','Survived'], axis=1)\n",
    "y_train = train['Survived']\n",
    "X_val = val.drop(['PassengerId','Name', 'Ticket', 'Cabin','Survived'], axis=1)\n",
    "y_val = val['Survived']\n",
    "X_test = test.drop(['PassengerId','Name', 'Ticket', 'Cabin','Survived'], axis=1)\n",
    "y_test = test['Survived']"
   ]
  },
  {
   "cell_type": "code",
   "execution_count": 3,
   "metadata": {},
   "outputs": [
    {
     "name": "stdout",
     "output_type": "stream",
     "text": [
      "['Sex', 'Embarked', 'Cabin_letter']\n",
      "[1, 6, 7]\n"
     ]
    }
   ],
   "source": [
    "# Get indices of categorical variables\n",
    "d_t = X_train.dtypes\n",
    "\n",
    "list_cat = [x for x in d_t[d_t == object].axes[0]]\n",
    "\n",
    "print(list_cat)\n",
    "\n",
    "cat_indices = [X_train.columns.tolist().index(col) for col in list_cat]\n",
    "print(cat_indices)"
   ]
  },
  {
   "cell_type": "code",
   "execution_count": 4,
   "metadata": {},
   "outputs": [],
   "source": [
    "# Filling null values with 0\n",
    "\n",
    "X_train = X_train.fillna(0)\n",
    "X_test = X_test.fillna(0)\n",
    "X_val = X_val.fillna(0)"
   ]
  },
  {
   "cell_type": "code",
   "execution_count": 5,
   "metadata": {},
   "outputs": [],
   "source": [
    "# function which gives the number of bits required for representing a parameter in the individual genome\n",
    "def num_trait_bin_len(min_val,max_val,step):\n",
    "    num_val = math.ceil((max_val-min_val)/step + 1)\n",
    "#    print(num_val)\n",
    "    num_val_bin = str(bin(num_val))[2:]\n",
    "#    print(num_val_bin)\n",
    "    num_val_bin_len = len(num_val_bin)\n",
    "    return num_val_bin_len\n",
    "\n",
    "# testing trait_bin_len function\n",
    "#print(num_trait_bin_len(0.01,0.55,0.02))"
   ]
  },
  {
   "cell_type": "code",
   "execution_count": 6,
   "metadata": {},
   "outputs": [],
   "source": [
    "# function for converting a binary string value from a given individual into real value\n",
    "def bin2num(min_val,max_val,decimal_precision,bin_str):\n",
    "    Nbit = len(bin_str)\n",
    "    Dval = int(bin_str,2)\n",
    "    \n",
    "    real_val = round(min_val + ((max_val-min_val)/((2**Nbit)-1))*Dval,decimal_precision)\n",
    "    return real_val"
   ]
  },
  {
   "cell_type": "code",
   "execution_count": 7,
   "metadata": {},
   "outputs": [],
   "source": [
    "# population initialization function\n",
    "def dna_initialization(param_df):\n",
    "    dna_str = \"\"\n",
    "    for i in range(param_df.shape[0]):\n",
    "        dna_str = dna_str+bin(np.random.randint(2**param_df.loc[i]['nBits']))[2:].zfill(int(param_df.loc[i]['nBits']))\n",
    "    return dna_str"
   ]
  },
  {
   "cell_type": "code",
   "execution_count": 8,
   "metadata": {},
   "outputs": [],
   "source": [
    "# function for roulette wheel selection\n",
    "def roullete_selection(pop_df, n_select):\n",
    "    pop_df2 = deepcopy(pop_df)\n",
    "    pop_df2 = pop_df2.sort_values(by='fitness', axis=0, ascending=False)    \n",
    "    pop_df2['fit_cum'] = pop_df2['fitness'].cumsum()    \n",
    "    fit_sum = pop_df2['fitness'].sum()    \n",
    "    return_selection = pd.DataFrame(columns=pop_df.columns.tolist())\n",
    "    \n",
    "    for i in range(n_select):\n",
    "        rand_num = random.uniform(0, fit_sum)\n",
    "        selection = pop_df2[pop_df2['fit_cum'] >= rand_num].head(1)\n",
    "        return_selection = return_selection.append(selection[return_selection.columns.tolist()])\n",
    "    \n",
    "    return return_selection"
   ]
  },
  {
   "cell_type": "code",
   "execution_count": 9,
   "metadata": {},
   "outputs": [],
   "source": [
    "# function for ranking selection\n",
    "def ranking_selection(pop_df, n_select):\n",
    "    pop_df2 = deepcopy(pop_df)\n",
    "    pop_df2['fitness_2'] = 1/pop_df2['fitness'].rank(ascending=False)\n",
    "    pop_df2['fitness'] = pop_df2['fitness_2']\n",
    "    \n",
    "    return_selection = roullete_selection(pop_df2[pop_df.columns.tolist()],n_select)\n",
    "    \n",
    "    return return_selection"
   ]
  },
  {
   "cell_type": "code",
   "execution_count": 10,
   "metadata": {},
   "outputs": [],
   "source": [
    "# function for tournament selection\n",
    "def tournament_selection(pop_df, n_select, tournament_size):\n",
    "    pop_df2 = deepcopy(pop_df)\n",
    "    return_selection = pd.DataFrame(columns=pop_df.columns.tolist())\n",
    "    for i in range(n_select):\n",
    "        tournament_pool = pop_df2.sample(n=tournament_size)\n",
    "        winner = tournament_pool.sort_values(by='fitness', axis=0, ascending=False).head(1) \n",
    "        return_selection = return_selection.append(winner)\n",
    "    \n",
    "    return return_selection"
   ]
  },
  {
   "cell_type": "code",
   "execution_count": 11,
   "metadata": {},
   "outputs": [],
   "source": [
    "# random bit mutation function\n",
    "def mutation(dna,p_mut):\n",
    "    dna2 = ''\n",
    "    for i in range(len(dna)):\n",
    "        if random.random() < p_mut:\n",
    "            if dna[i] == '1':\n",
    "                dna2 = dna2 + '0'\n",
    "            else:\n",
    "                dna2 = dna2 + '1'\n",
    "        else:\n",
    "            dna2 = dna2 + dna[i]\n",
    "    return dna"
   ]
  },
  {
   "cell_type": "code",
   "execution_count": 12,
   "metadata": {},
   "outputs": [],
   "source": [
    "# function for uniform crossover\n",
    "def uniform_crossover(par1,par2):\n",
    "    child = ''\n",
    "    for i in range(len(par1)):\n",
    "        if random.random() < 0.5:\n",
    "            child = child + par1[i]\n",
    "        else:\n",
    "            child = child + par2[i]\n",
    "    return mutation(child,p_mut)\n",
    "     "
   ]
  },
  {
   "cell_type": "code",
   "execution_count": 13,
   "metadata": {},
   "outputs": [],
   "source": [
    "def fit_prop_crossover(par1,fit1,par2,fit2):\n",
    "    prob_par1 = fit1/(fit1+fit2)\n",
    "    child = ''\n",
    "    for i in range(len(par1)):\n",
    "        if random.random() < prob_par1:\n",
    "            child = child + par1[i]\n",
    "        else:\n",
    "            child = child + par2[i]\n",
    "    return mutation(child,p_mut)"
   ]
  },
  {
   "cell_type": "code",
   "execution_count": 14,
   "metadata": {},
   "outputs": [],
   "source": [
    "# GA parameters\n",
    "n_pop = 100             # population size\n",
    "n_gen = 100              # number of generations\n",
    "p_mut = 0.05           # mutation probability\n",
    "p_cross = 0.5          # crossover probability\n",
    "child_ratio = 0.5      # share of children to be included in each generation\n",
    "tournament_size = 4    # size pool for tournament selection, needed only in case of tournament selection"
   ]
  },
  {
   "cell_type": "code",
   "execution_count": 15,
   "metadata": {},
   "outputs": [],
   "source": [
    "# catboost parameter\n",
    "n_tree = 100"
   ]
  },
  {
   "cell_type": "code",
   "execution_count": 16,
   "metadata": {},
   "outputs": [],
   "source": [
    "# list of parameters in format [parameter name, minimum value, maximum value, step size]\n",
    "num_param_list = [['rsm',0.5,1,0.05,2],\n",
    "                  ['depth',4,10,1,0],\n",
    "                  ['learning_rate',0.01,0.5,0.01,2],\n",
    "                  ['l2_leaf_reg',1,100,1,0]]"
   ]
  },
  {
   "cell_type": "code",
   "execution_count": 17,
   "metadata": {},
   "outputs": [],
   "source": [
    "param_df = pd.DataFrame(num_param_list, \n",
    "                        columns=['parameter_name', \n",
    "                                 'min_val',\n",
    "                                 'max_val',\n",
    "                                 'step_size',\n",
    "                                 'decimal_precision'])"
   ]
  },
  {
   "cell_type": "code",
   "execution_count": 18,
   "metadata": {},
   "outputs": [],
   "source": [
    "for i in range(param_df.shape[0]):\n",
    "    nBits = num_trait_bin_len(param_df.loc[i]['min_val'],\n",
    "                              param_df.loc[i]['max_val'],\n",
    "                              param_df.loc[i]['step_size'])\n",
    "    param_df.loc[i,'nBits'] = nBits\n",
    "\n",
    "dna_len = int(param_df['nBits'].sum())"
   ]
  },
  {
   "cell_type": "code",
   "execution_count": 19,
   "metadata": {},
   "outputs": [],
   "source": [
    "# result collection df\n",
    "hyper_param_list = list(param_df['parameter_name'])\n",
    "result_col_list = ['dna_str'] + hyper_param_list + ['accuracy']\n",
    "\n",
    "#results_df = pd.DataFrame(data=None,columns=result_col_list)"
   ]
  },
  {
   "cell_type": "code",
   "execution_count": 20,
   "metadata": {},
   "outputs": [],
   "source": [
    "t_a = datetime.datetime.now()\n",
    "\n",
    "def ga_catboost(dna):  \n",
    "    \n",
    "    hyper_param_str = ''\n",
    "    bit_cntr = 0\n",
    "    \n",
    "    res_dict = {\"dna\":dna}\n",
    "    \n",
    "    for i in range(param_df.shape[0]):\n",
    "        parameter = param_df.loc[i]['parameter_name']\n",
    "        param_min = param_df.loc[i]['min_val']\n",
    "        param_max = param_df.loc[i]['max_val']\n",
    "        decimal_precision = param_df.loc[i]['decimal_precision']\n",
    "        bit_len = int(param_df.loc[i]['nBits'])\n",
    "        \n",
    "        bit_start = bit_cntr\n",
    "        bit_end = bit_start+bit_len\n",
    "        \n",
    "        param_str = dna[bit_start:bit_end]        \n",
    "        param_val = bin2num(param_min,param_max,decimal_precision,param_str)      \n",
    "        hyper_param_str = hyper_param_str + parameter + \"=\" + str(param_val) + \",\"\n",
    "        res_dict[parameter] = param_val\n",
    "        \n",
    "    if dna in list(result_df['dna']):\n",
    "        accuracy = result_df[result_df['dna'] == dna]['fitness'].tolist()[0]\n",
    "    else:\n",
    "        model = eval(\"CatBoostClassifier(iterations=\" + str(n_tree) + \",\" + hyper_param_str + \"random_seed=2)\")\n",
    "        model.fit(X_train, y_train,cat_indices)\n",
    "    \n",
    "        # Predicitng and calculating performance on test data\n",
    "        predict_prob = model.predict_proba(X_test)[:,1]\n",
    "    \n",
    "        pred_list = [1 if i > 0.5 else 0 for i in predict_prob.tolist()]\n",
    "    \n",
    "        y_list = y_test.tolist()\n",
    "    \n",
    "        counter = 0\n",
    "        for i in range(len(pred_list)):\n",
    "            if pred_list[i] == y_list[i]:\n",
    "                counter = counter+1\n",
    "    \n",
    "        accuracy = counter/len(pred_list)\n",
    "    \n",
    "    res_dict['fitness'] = accuracy\n",
    "       \n",
    "    return res_dict"
   ]
  },
  {
   "cell_type": "code",
   "execution_count": 20,
   "metadata": {},
   "outputs": [],
   "source": [
    "t1 = datetime.datetime.now()"
   ]
  },
  {
   "cell_type": "code",
   "execution_count": 21,
   "metadata": {},
   "outputs": [
    {
     "name": "stdout",
     "output_type": "stream",
     "text": [
      "100\n"
     ]
    },
    {
     "data": {
      "application/vnd.jupyter.widget-view+json": {
       "model_id": "a92408ecbc834095aa013510c9f74341",
       "version_major": 2,
       "version_minor": 0
      },
      "text/plain": [
       "A Jupyter Widget"
      ]
     },
     "metadata": {},
     "output_type": "display_data"
    },
    {
     "name": "stdout",
     "output_type": "stream",
     "text": [
      "\n"
     ]
    }
   ],
   "source": [
    "# initialize population\n",
    "pop_list = [dna_initialization(param_df) for i in range(n_pop)]\n",
    "\n",
    "result_col_list = ['dna'] + list(param_df['parameter_name']) + ['fitness']\n",
    "result_df = pd.DataFrame(columns=result_col_list)\n",
    "\n",
    "print(len(pop_list))\n",
    "n_child_needed = math.floor(child_ratio*n_pop)\n",
    "\n",
    "# initial run\n",
    "gen = 0\n",
    "results = []\n",
    "\n",
    "# initialize progress bar\n",
    "pbar1 = tqdm(total=n_pop)\n",
    "\n",
    "for pop_i in pop_list:\n",
    "    \n",
    "    res_t = ga_catboost(pop_i)\n",
    "    results = results + [res_t]\n",
    "    \n",
    "    pbar1.update(1)\n",
    "\n",
    "pbar1.close()\n",
    "\n",
    "result_temp = pd.DataFrame(results,columns=result_col_list)\n",
    "\n",
    "result_df = result_df.append(result_temp)\n",
    "result_df = result_df.drop_duplicates()\n",
    "result_df = result_df.reset_index(drop=True)\n",
    "\n",
    "pop_df = result_temp[['dna','fitness']]"
   ]
  },
  {
   "cell_type": "code",
   "execution_count": 22,
   "metadata": {},
   "outputs": [
    {
     "data": {
      "application/vnd.jupyter.widget-view+json": {
       "model_id": "8edc04a4742b420798c4ab50f8285709",
       "version_major": 2,
       "version_minor": 0
      },
      "text/plain": [
       "A Jupyter Widget"
      ]
     },
     "metadata": {},
     "output_type": "display_data"
    },
    {
     "name": "stdout",
     "output_type": "stream",
     "text": [
      "\n",
      "Best fitness for generation 1 is 0.827956989247 and truntime = 0:01:31.011203\n"
     ]
    },
    {
     "data": {
      "application/vnd.jupyter.widget-view+json": {
       "model_id": "b5b069c57ac445c68d70ba12cd782428",
       "version_major": 2,
       "version_minor": 0
      },
      "text/plain": [
       "A Jupyter Widget"
      ]
     },
     "metadata": {},
     "output_type": "display_data"
    },
    {
     "name": "stdout",
     "output_type": "stream",
     "text": [
      "\n",
      "Best fitness for generation 2 is 0.827956989247 and truntime = 0:01:07.198439\n"
     ]
    },
    {
     "data": {
      "application/vnd.jupyter.widget-view+json": {
       "model_id": "ce1b00f0d95e40c7997ab8009c074194",
       "version_major": 2,
       "version_minor": 0
      },
      "text/plain": [
       "A Jupyter Widget"
      ]
     },
     "metadata": {},
     "output_type": "display_data"
    },
    {
     "name": "stdout",
     "output_type": "stream",
     "text": [
      "\n",
      "Best fitness for generation 3 is 0.827956989247 and truntime = 0:01:09.709383\n"
     ]
    },
    {
     "data": {
      "application/vnd.jupyter.widget-view+json": {
       "model_id": "803df1bc227a4874a48f9f2dbd908db3",
       "version_major": 2,
       "version_minor": 0
      },
      "text/plain": [
       "A Jupyter Widget"
      ]
     },
     "metadata": {},
     "output_type": "display_data"
    },
    {
     "name": "stdout",
     "output_type": "stream",
     "text": [
      "\n",
      "Best fitness for generation 4 is 0.827956989247 and truntime = 0:00:59.273030\n"
     ]
    },
    {
     "data": {
      "application/vnd.jupyter.widget-view+json": {
       "model_id": "4cbe2687f2b8460b9c1d91be895104eb",
       "version_major": 2,
       "version_minor": 0
      },
      "text/plain": [
       "A Jupyter Widget"
      ]
     },
     "metadata": {},
     "output_type": "display_data"
    },
    {
     "name": "stdout",
     "output_type": "stream",
     "text": [
      "\n",
      "Best fitness for generation 5 is 0.827956989247 and truntime = 0:00:47.924313\n"
     ]
    },
    {
     "data": {
      "application/vnd.jupyter.widget-view+json": {
       "model_id": "a18bc9ba413848ca963205eb66b5e4c3",
       "version_major": 2,
       "version_minor": 0
      },
      "text/plain": [
       "A Jupyter Widget"
      ]
     },
     "metadata": {},
     "output_type": "display_data"
    },
    {
     "name": "stdout",
     "output_type": "stream",
     "text": [
      "\n",
      "Best fitness for generation 6 is 0.827956989247 and truntime = 0:00:47.369160\n"
     ]
    },
    {
     "data": {
      "application/vnd.jupyter.widget-view+json": {
       "model_id": "d5af1370aae24c61bc97961921244e84",
       "version_major": 2,
       "version_minor": 0
      },
      "text/plain": [
       "A Jupyter Widget"
      ]
     },
     "metadata": {},
     "output_type": "display_data"
    },
    {
     "name": "stdout",
     "output_type": "stream",
     "text": [
      "\n",
      "Best fitness for generation 7 is 0.827956989247 and truntime = 0:00:39.934937\n"
     ]
    },
    {
     "data": {
      "application/vnd.jupyter.widget-view+json": {
       "model_id": "f0c3f3a964104dd2a8f251cdabb72587",
       "version_major": 2,
       "version_minor": 0
      },
      "text/plain": [
       "A Jupyter Widget"
      ]
     },
     "metadata": {},
     "output_type": "display_data"
    },
    {
     "name": "stdout",
     "output_type": "stream",
     "text": [
      "\n",
      "Best fitness for generation 8 is 0.827956989247 and truntime = 0:00:41.448087\n"
     ]
    },
    {
     "data": {
      "application/vnd.jupyter.widget-view+json": {
       "model_id": "0ccae6bd611047d791adc14bd5204d73",
       "version_major": 2,
       "version_minor": 0
      },
      "text/plain": [
       "A Jupyter Widget"
      ]
     },
     "metadata": {},
     "output_type": "display_data"
    },
    {
     "name": "stdout",
     "output_type": "stream",
     "text": [
      "\n",
      "Best fitness for generation 9 is 0.827956989247 and truntime = 0:00:34.594750\n"
     ]
    },
    {
     "data": {
      "application/vnd.jupyter.widget-view+json": {
       "model_id": "09d4732d60ee496996a7930684db90ec",
       "version_major": 2,
       "version_minor": 0
      },
      "text/plain": [
       "A Jupyter Widget"
      ]
     },
     "metadata": {},
     "output_type": "display_data"
    },
    {
     "name": "stdout",
     "output_type": "stream",
     "text": [
      "\n",
      "Best fitness for generation 10 is 0.827956989247 and truntime = 0:00:30.777996\n"
     ]
    },
    {
     "data": {
      "application/vnd.jupyter.widget-view+json": {
       "model_id": "981df20a66f14d5cb4e5b2fce7c140d5",
       "version_major": 2,
       "version_minor": 0
      },
      "text/plain": [
       "A Jupyter Widget"
      ]
     },
     "metadata": {},
     "output_type": "display_data"
    },
    {
     "name": "stdout",
     "output_type": "stream",
     "text": [
      "\n",
      "Best fitness for generation 11 is 0.827956989247 and truntime = 0:00:32.596206\n"
     ]
    },
    {
     "data": {
      "application/vnd.jupyter.widget-view+json": {
       "model_id": "1ae21686831f4303ae5e1c620c6108fb",
       "version_major": 2,
       "version_minor": 0
      },
      "text/plain": [
       "A Jupyter Widget"
      ]
     },
     "metadata": {},
     "output_type": "display_data"
    },
    {
     "name": "stdout",
     "output_type": "stream",
     "text": [
      "\n",
      "Best fitness for generation 12 is 0.827956989247 and truntime = 0:00:34.138169\n"
     ]
    },
    {
     "data": {
      "application/vnd.jupyter.widget-view+json": {
       "model_id": "351a17aebd9e43f4adf2192967f35d1d",
       "version_major": 2,
       "version_minor": 0
      },
      "text/plain": [
       "A Jupyter Widget"
      ]
     },
     "metadata": {},
     "output_type": "display_data"
    },
    {
     "name": "stdout",
     "output_type": "stream",
     "text": [
      "\n",
      "Best fitness for generation 13 is 0.827956989247 and truntime = 0:00:23.287508\n"
     ]
    },
    {
     "data": {
      "application/vnd.jupyter.widget-view+json": {
       "model_id": "f9abf5ad32bb41f08a3d09287edb1380",
       "version_major": 2,
       "version_minor": 0
      },
      "text/plain": [
       "A Jupyter Widget"
      ]
     },
     "metadata": {},
     "output_type": "display_data"
    },
    {
     "name": "stdout",
     "output_type": "stream",
     "text": [
      "\n",
      "Best fitness for generation 14 is 0.827956989247 and truntime = 0:00:34.003213\n"
     ]
    },
    {
     "data": {
      "application/vnd.jupyter.widget-view+json": {
       "model_id": "b22996f0e8074c3bb95867c86e5c8d11",
       "version_major": 2,
       "version_minor": 0
      },
      "text/plain": [
       "A Jupyter Widget"
      ]
     },
     "metadata": {},
     "output_type": "display_data"
    },
    {
     "name": "stdout",
     "output_type": "stream",
     "text": [
      "\n",
      "Best fitness for generation 15 is 0.827956989247 and truntime = 0:00:29.948696\n"
     ]
    },
    {
     "data": {
      "application/vnd.jupyter.widget-view+json": {
       "model_id": "8a7aef79f6024eceb3609a1bee619489",
       "version_major": 2,
       "version_minor": 0
      },
      "text/plain": [
       "A Jupyter Widget"
      ]
     },
     "metadata": {},
     "output_type": "display_data"
    },
    {
     "name": "stdout",
     "output_type": "stream",
     "text": [
      "\n",
      "Best fitness for generation 16 is 0.827956989247 and truntime = 0:00:27.923708\n"
     ]
    },
    {
     "data": {
      "application/vnd.jupyter.widget-view+json": {
       "model_id": "d1471474fe724fa3801c89a2cee0b12f",
       "version_major": 2,
       "version_minor": 0
      },
      "text/plain": [
       "A Jupyter Widget"
      ]
     },
     "metadata": {},
     "output_type": "display_data"
    },
    {
     "name": "stdout",
     "output_type": "stream",
     "text": [
      "\n",
      "Best fitness for generation 17 is 0.827956989247 and truntime = 0:00:21.523463\n"
     ]
    },
    {
     "data": {
      "application/vnd.jupyter.widget-view+json": {
       "model_id": "68c9cb24162548189fc7fd60ae24b09a",
       "version_major": 2,
       "version_minor": 0
      },
      "text/plain": [
       "A Jupyter Widget"
      ]
     },
     "metadata": {},
     "output_type": "display_data"
    },
    {
     "name": "stdout",
     "output_type": "stream",
     "text": [
      "\n",
      "Best fitness for generation 18 is 0.827956989247 and truntime = 0:00:17.274263\n"
     ]
    },
    {
     "data": {
      "application/vnd.jupyter.widget-view+json": {
       "model_id": "5a63ce4593c34cf9b981e93f7a0ef4f0",
       "version_major": 2,
       "version_minor": 0
      },
      "text/plain": [
       "A Jupyter Widget"
      ]
     },
     "metadata": {},
     "output_type": "display_data"
    },
    {
     "name": "stdout",
     "output_type": "stream",
     "text": [
      "\n",
      "Best fitness for generation 19 is 0.827956989247 and truntime = 0:00:20.179121\n"
     ]
    },
    {
     "data": {
      "application/vnd.jupyter.widget-view+json": {
       "model_id": "cbb196a27bcd42cd8b8b4f3a8bfbfbe4",
       "version_major": 2,
       "version_minor": 0
      },
      "text/plain": [
       "A Jupyter Widget"
      ]
     },
     "metadata": {},
     "output_type": "display_data"
    },
    {
     "name": "stdout",
     "output_type": "stream",
     "text": [
      "\n",
      "Best fitness for generation 20 is 0.827956989247 and truntime = 0:00:11.173400\n"
     ]
    },
    {
     "data": {
      "application/vnd.jupyter.widget-view+json": {
       "model_id": "272d251d3c214663967090a4b20eed2c",
       "version_major": 2,
       "version_minor": 0
      },
      "text/plain": [
       "A Jupyter Widget"
      ]
     },
     "metadata": {},
     "output_type": "display_data"
    },
    {
     "name": "stdout",
     "output_type": "stream",
     "text": [
      "\n",
      "Best fitness for generation 21 is 0.827956989247 and truntime = 0:00:10.776593\n"
     ]
    },
    {
     "data": {
      "application/vnd.jupyter.widget-view+json": {
       "model_id": "15d4d02b96824fb99d1aca732e00977e",
       "version_major": 2,
       "version_minor": 0
      },
      "text/plain": [
       "A Jupyter Widget"
      ]
     },
     "metadata": {},
     "output_type": "display_data"
    },
    {
     "name": "stdout",
     "output_type": "stream",
     "text": [
      "\n",
      "Best fitness for generation 22 is 0.827956989247 and truntime = 0:00:11.401920\n"
     ]
    },
    {
     "data": {
      "application/vnd.jupyter.widget-view+json": {
       "model_id": "19d58cba600e4a749ef3e03db40b4a34",
       "version_major": 2,
       "version_minor": 0
      },
      "text/plain": [
       "A Jupyter Widget"
      ]
     },
     "metadata": {},
     "output_type": "display_data"
    },
    {
     "name": "stdout",
     "output_type": "stream",
     "text": [
      "\n",
      "Best fitness for generation 23 is 0.827956989247 and truntime = 0:00:19.633954\n"
     ]
    },
    {
     "data": {
      "application/vnd.jupyter.widget-view+json": {
       "model_id": "84038744878b415ea7360772971ceab4",
       "version_major": 2,
       "version_minor": 0
      },
      "text/plain": [
       "A Jupyter Widget"
      ]
     },
     "metadata": {},
     "output_type": "display_data"
    },
    {
     "name": "stdout",
     "output_type": "stream",
     "text": [
      "\n",
      "Best fitness for generation 24 is 0.827956989247 and truntime = 0:00:12.720885\n"
     ]
    },
    {
     "data": {
      "application/vnd.jupyter.widget-view+json": {
       "model_id": "db44d87be0244c06ab9fadd10db93a0c",
       "version_major": 2,
       "version_minor": 0
      },
      "text/plain": [
       "A Jupyter Widget"
      ]
     },
     "metadata": {},
     "output_type": "display_data"
    },
    {
     "name": "stdout",
     "output_type": "stream",
     "text": [
      "\n",
      "Best fitness for generation 25 is 0.827956989247 and truntime = 0:00:13.326172\n"
     ]
    },
    {
     "data": {
      "application/vnd.jupyter.widget-view+json": {
       "model_id": "363dad6fb8a6404eb9d5109d5e7c50f8",
       "version_major": 2,
       "version_minor": 0
      },
      "text/plain": [
       "A Jupyter Widget"
      ]
     },
     "metadata": {},
     "output_type": "display_data"
    },
    {
     "name": "stdout",
     "output_type": "stream",
     "text": [
      "\n",
      "Best fitness for generation 26 is 0.827956989247 and truntime = 0:00:06.603461\n"
     ]
    },
    {
     "data": {
      "application/vnd.jupyter.widget-view+json": {
       "model_id": "bd22ebfa9a2648b8a80bd960700abb91",
       "version_major": 2,
       "version_minor": 0
      },
      "text/plain": [
       "A Jupyter Widget"
      ]
     },
     "metadata": {},
     "output_type": "display_data"
    },
    {
     "name": "stdout",
     "output_type": "stream",
     "text": [
      "\n",
      "Best fitness for generation 27 is 0.827956989247 and truntime = 0:00:13.660124\n"
     ]
    },
    {
     "data": {
      "application/vnd.jupyter.widget-view+json": {
       "model_id": "d36f73203cf54c599c9a377acb3f3d32",
       "version_major": 2,
       "version_minor": 0
      },
      "text/plain": [
       "A Jupyter Widget"
      ]
     },
     "metadata": {},
     "output_type": "display_data"
    },
    {
     "name": "stdout",
     "output_type": "stream",
     "text": [
      "\n",
      "Best fitness for generation 28 is 0.827956989247 and truntime = 0:00:08.851539\n"
     ]
    },
    {
     "data": {
      "application/vnd.jupyter.widget-view+json": {
       "model_id": "247e473481d144998af36026c4a322e5",
       "version_major": 2,
       "version_minor": 0
      },
      "text/plain": [
       "A Jupyter Widget"
      ]
     },
     "metadata": {},
     "output_type": "display_data"
    },
    {
     "name": "stdout",
     "output_type": "stream",
     "text": [
      "\n",
      "Best fitness for generation 29 is 0.827956989247 and truntime = 0:00:11.696091\n"
     ]
    },
    {
     "data": {
      "application/vnd.jupyter.widget-view+json": {
       "model_id": "68df9e984b214e0f8ad49b4cdc13f6ad",
       "version_major": 2,
       "version_minor": 0
      },
      "text/plain": [
       "A Jupyter Widget"
      ]
     },
     "metadata": {},
     "output_type": "display_data"
    },
    {
     "name": "stdout",
     "output_type": "stream",
     "text": [
      "\n",
      "Best fitness for generation 30 is 0.827956989247 and truntime = 0:00:08.169994\n"
     ]
    },
    {
     "data": {
      "application/vnd.jupyter.widget-view+json": {
       "model_id": "37b36afa685b4a8d9b5ebcb82210bf2a",
       "version_major": 2,
       "version_minor": 0
      },
      "text/plain": [
       "A Jupyter Widget"
      ]
     },
     "metadata": {},
     "output_type": "display_data"
    },
    {
     "name": "stdout",
     "output_type": "stream",
     "text": [
      "\n",
      "Best fitness for generation 31 is 0.827956989247 and truntime = 0:00:09.102050\n"
     ]
    },
    {
     "data": {
      "application/vnd.jupyter.widget-view+json": {
       "model_id": "1b9dff16516e44a684a2f733f5ad884e",
       "version_major": 2,
       "version_minor": 0
      },
      "text/plain": [
       "A Jupyter Widget"
      ]
     },
     "metadata": {},
     "output_type": "display_data"
    },
    {
     "name": "stdout",
     "output_type": "stream",
     "text": [
      "\n",
      "Best fitness for generation 32 is 0.827956989247 and truntime = 0:00:04.435285\n"
     ]
    },
    {
     "data": {
      "application/vnd.jupyter.widget-view+json": {
       "model_id": "03f8cc1fb335489893aaacaded2e914c",
       "version_major": 2,
       "version_minor": 0
      },
      "text/plain": [
       "A Jupyter Widget"
      ]
     },
     "metadata": {},
     "output_type": "display_data"
    },
    {
     "name": "stdout",
     "output_type": "stream",
     "text": [
      "\n",
      "Best fitness for generation 33 is 0.827956989247 and truntime = 0:00:04.249403\n"
     ]
    },
    {
     "data": {
      "application/vnd.jupyter.widget-view+json": {
       "model_id": "f49993eaa2c54fdf888908cf33f883e9",
       "version_major": 2,
       "version_minor": 0
      },
      "text/plain": [
       "A Jupyter Widget"
      ]
     },
     "metadata": {},
     "output_type": "display_data"
    },
    {
     "name": "stdout",
     "output_type": "stream",
     "text": [
      "\n",
      "Best fitness for generation 34 is 0.827956989247 and truntime = 0:00:02.950008\n"
     ]
    },
    {
     "data": {
      "application/vnd.jupyter.widget-view+json": {
       "model_id": "26b5f94ac67a4c53aa80e75ffe3c7a98",
       "version_major": 2,
       "version_minor": 0
      },
      "text/plain": [
       "A Jupyter Widget"
      ]
     },
     "metadata": {},
     "output_type": "display_data"
    },
    {
     "name": "stdout",
     "output_type": "stream",
     "text": [
      "\n",
      "Best fitness for generation 35 is 0.827956989247 and truntime = 0:00:02.886076\n"
     ]
    },
    {
     "data": {
      "application/vnd.jupyter.widget-view+json": {
       "model_id": "fcb5909eb9c542149f4db7bafed8c226",
       "version_major": 2,
       "version_minor": 0
      },
      "text/plain": [
       "A Jupyter Widget"
      ]
     },
     "metadata": {},
     "output_type": "display_data"
    },
    {
     "name": "stdout",
     "output_type": "stream",
     "text": [
      "\n",
      "Best fitness for generation 36 is 0.827956989247 and truntime = 0:00:05.245822\n"
     ]
    },
    {
     "data": {
      "application/vnd.jupyter.widget-view+json": {
       "model_id": "d55d0c1fc0cc40028f531c817edf9485",
       "version_major": 2,
       "version_minor": 0
      },
      "text/plain": [
       "A Jupyter Widget"
      ]
     },
     "metadata": {},
     "output_type": "display_data"
    },
    {
     "name": "stdout",
     "output_type": "stream",
     "text": [
      "\n",
      "Best fitness for generation 37 is 0.827956989247 and truntime = 0:00:03.054843\n"
     ]
    },
    {
     "data": {
      "application/vnd.jupyter.widget-view+json": {
       "model_id": "a3ef403f0444427c9ff66b181011a1b7",
       "version_major": 2,
       "version_minor": 0
      },
      "text/plain": [
       "A Jupyter Widget"
      ]
     },
     "metadata": {},
     "output_type": "display_data"
    },
    {
     "name": "stdout",
     "output_type": "stream",
     "text": [
      "\n",
      "Best fitness for generation 38 is 0.827956989247 and truntime = 0:00:05.658638\n"
     ]
    },
    {
     "data": {
      "application/vnd.jupyter.widget-view+json": {
       "model_id": "deb17cee8c244048a9dd90f7fc82f2ba",
       "version_major": 2,
       "version_minor": 0
      },
      "text/plain": [
       "A Jupyter Widget"
      ]
     },
     "metadata": {},
     "output_type": "display_data"
    },
    {
     "name": "stdout",
     "output_type": "stream",
     "text": [
      "\n",
      "Best fitness for generation 39 is 0.827956989247 and truntime = 0:00:04.157413\n"
     ]
    },
    {
     "data": {
      "application/vnd.jupyter.widget-view+json": {
       "model_id": "c591862aef3549178d61e7b274a4d298",
       "version_major": 2,
       "version_minor": 0
      },
      "text/plain": [
       "A Jupyter Widget"
      ]
     },
     "metadata": {},
     "output_type": "display_data"
    },
    {
     "name": "stdout",
     "output_type": "stream",
     "text": [
      "\n",
      "Best fitness for generation 40 is 0.827956989247 and truntime = 0:00:01.991428\n"
     ]
    },
    {
     "data": {
      "application/vnd.jupyter.widget-view+json": {
       "model_id": "0dce79c338bc4b3383ea3f1f073e6953",
       "version_major": 2,
       "version_minor": 0
      },
      "text/plain": [
       "A Jupyter Widget"
      ]
     },
     "metadata": {},
     "output_type": "display_data"
    },
    {
     "name": "stdout",
     "output_type": "stream",
     "text": [
      "\n",
      "Best fitness for generation 41 is 0.827956989247 and truntime = 0:00:04.171249\n"
     ]
    },
    {
     "data": {
      "application/vnd.jupyter.widget-view+json": {
       "model_id": "ba8eb047199345c9bc170dedb2c336c9",
       "version_major": 2,
       "version_minor": 0
      },
      "text/plain": [
       "A Jupyter Widget"
      ]
     },
     "metadata": {},
     "output_type": "display_data"
    },
    {
     "name": "stdout",
     "output_type": "stream",
     "text": [
      "\n",
      "Best fitness for generation 42 is 0.827956989247 and truntime = 0:00:03.262356\n"
     ]
    },
    {
     "data": {
      "application/vnd.jupyter.widget-view+json": {
       "model_id": "c8c4e59087d44e67a96ac57704e0a1bd",
       "version_major": 2,
       "version_minor": 0
      },
      "text/plain": [
       "A Jupyter Widget"
      ]
     },
     "metadata": {},
     "output_type": "display_data"
    },
    {
     "name": "stdout",
     "output_type": "stream",
     "text": [
      "\n",
      "Best fitness for generation 43 is 0.827956989247 and truntime = 0:00:01.870320\n"
     ]
    },
    {
     "data": {
      "application/vnd.jupyter.widget-view+json": {
       "model_id": "0580ca1d380944cb9de377eb3bd836b0",
       "version_major": 2,
       "version_minor": 0
      },
      "text/plain": [
       "A Jupyter Widget"
      ]
     },
     "metadata": {},
     "output_type": "display_data"
    },
    {
     "name": "stdout",
     "output_type": "stream",
     "text": [
      "\n",
      "Best fitness for generation 44 is 0.827956989247 and truntime = 0:00:04.032645\n"
     ]
    },
    {
     "data": {
      "application/vnd.jupyter.widget-view+json": {
       "model_id": "2967f4e7c68d4c758d061862441402b9",
       "version_major": 2,
       "version_minor": 0
      },
      "text/plain": [
       "A Jupyter Widget"
      ]
     },
     "metadata": {},
     "output_type": "display_data"
    },
    {
     "name": "stdout",
     "output_type": "stream",
     "text": [
      "\n",
      "Best fitness for generation 45 is 0.827956989247 and truntime = 0:00:05.176819\n"
     ]
    },
    {
     "data": {
      "application/vnd.jupyter.widget-view+json": {
       "model_id": "dd3839f9b9bb408a9d66e0d842d9d436",
       "version_major": 2,
       "version_minor": 0
      },
      "text/plain": [
       "A Jupyter Widget"
      ]
     },
     "metadata": {},
     "output_type": "display_data"
    },
    {
     "name": "stdout",
     "output_type": "stream",
     "text": [
      "\n",
      "Best fitness for generation 46 is 0.827956989247 and truntime = 0:00:03.891300\n"
     ]
    },
    {
     "data": {
      "application/vnd.jupyter.widget-view+json": {
       "model_id": "233dd4f77a3b4fcfa3847fb6de11e914",
       "version_major": 2,
       "version_minor": 0
      },
      "text/plain": [
       "A Jupyter Widget"
      ]
     },
     "metadata": {},
     "output_type": "display_data"
    },
    {
     "name": "stdout",
     "output_type": "stream",
     "text": [
      "\n",
      "Best fitness for generation 47 is 0.827956989247 and truntime = 0:00:04.249862\n"
     ]
    },
    {
     "data": {
      "application/vnd.jupyter.widget-view+json": {
       "model_id": "6b3f58e247824da5af7c0b22811f5165",
       "version_major": 2,
       "version_minor": 0
      },
      "text/plain": [
       "A Jupyter Widget"
      ]
     },
     "metadata": {},
     "output_type": "display_data"
    },
    {
     "name": "stdout",
     "output_type": "stream",
     "text": [
      "\n",
      "Best fitness for generation 48 is 0.827956989247 and truntime = 0:00:03.020050\n"
     ]
    },
    {
     "data": {
      "application/vnd.jupyter.widget-view+json": {
       "model_id": "cd7ebbc93bb14ab6a13683bb6a201c6c",
       "version_major": 2,
       "version_minor": 0
      },
      "text/plain": [
       "A Jupyter Widget"
      ]
     },
     "metadata": {},
     "output_type": "display_data"
    },
    {
     "name": "stdout",
     "output_type": "stream",
     "text": [
      "\n",
      "Best fitness for generation 49 is 0.827956989247 and truntime = 0:00:01.687966\n"
     ]
    },
    {
     "data": {
      "application/vnd.jupyter.widget-view+json": {
       "model_id": "a7fed30f9317405bb9fac4e847ba3ca6",
       "version_major": 2,
       "version_minor": 0
      },
      "text/plain": [
       "A Jupyter Widget"
      ]
     },
     "metadata": {},
     "output_type": "display_data"
    },
    {
     "name": "stdout",
     "output_type": "stream",
     "text": [
      "\n",
      "Best fitness for generation 50 is 0.827956989247 and truntime = 0:00:01.928732\n"
     ]
    },
    {
     "data": {
      "application/vnd.jupyter.widget-view+json": {
       "model_id": "767ac5b11e3b4febacf153f51dc88d08",
       "version_major": 2,
       "version_minor": 0
      },
      "text/plain": [
       "A Jupyter Widget"
      ]
     },
     "metadata": {},
     "output_type": "display_data"
    },
    {
     "name": "stdout",
     "output_type": "stream",
     "text": [
      "\n",
      "Best fitness for generation 51 is 0.827956989247 and truntime = 0:00:00.741084\n"
     ]
    },
    {
     "data": {
      "application/vnd.jupyter.widget-view+json": {
       "model_id": "3e1dbaf11014426faedea470d5cb1986",
       "version_major": 2,
       "version_minor": 0
      },
      "text/plain": [
       "A Jupyter Widget"
      ]
     },
     "metadata": {},
     "output_type": "display_data"
    },
    {
     "name": "stdout",
     "output_type": "stream",
     "text": [
      "\n",
      "Best fitness for generation 52 is 0.827956989247 and truntime = 0:00:01.878065\n"
     ]
    },
    {
     "data": {
      "application/vnd.jupyter.widget-view+json": {
       "model_id": "772b21f7c848414eb41fc583c8e637ee",
       "version_major": 2,
       "version_minor": 0
      },
      "text/plain": [
       "A Jupyter Widget"
      ]
     },
     "metadata": {},
     "output_type": "display_data"
    },
    {
     "name": "stdout",
     "output_type": "stream",
     "text": [
      "\n",
      "Best fitness for generation 53 is 0.827956989247 and truntime = 0:00:02.860998\n"
     ]
    },
    {
     "data": {
      "application/vnd.jupyter.widget-view+json": {
       "model_id": "0a72bb865b5e4002ba62c9bf5dcd5d69",
       "version_major": 2,
       "version_minor": 0
      },
      "text/plain": [
       "A Jupyter Widget"
      ]
     },
     "metadata": {},
     "output_type": "display_data"
    },
    {
     "name": "stdout",
     "output_type": "stream",
     "text": [
      "\n",
      "Best fitness for generation 54 is 0.827956989247 and truntime = 0:00:01.761206\n"
     ]
    },
    {
     "data": {
      "application/vnd.jupyter.widget-view+json": {
       "model_id": "ccd28d90345f4878aaf9641ed2d37b4f",
       "version_major": 2,
       "version_minor": 0
      },
      "text/plain": [
       "A Jupyter Widget"
      ]
     },
     "metadata": {},
     "output_type": "display_data"
    },
    {
     "name": "stdout",
     "output_type": "stream",
     "text": [
      "\n",
      "Best fitness for generation 55 is 0.827956989247 and truntime = 0:00:00.741757\n"
     ]
    },
    {
     "data": {
      "application/vnd.jupyter.widget-view+json": {
       "model_id": "f966e5908a824475a6df790a2c9ebec7",
       "version_major": 2,
       "version_minor": 0
      },
      "text/plain": [
       "A Jupyter Widget"
      ]
     },
     "metadata": {},
     "output_type": "display_data"
    },
    {
     "name": "stdout",
     "output_type": "stream",
     "text": [
      "\n",
      "Best fitness for generation 56 is 0.827956989247 and truntime = 0:00:00.741339\n"
     ]
    },
    {
     "data": {
      "application/vnd.jupyter.widget-view+json": {
       "model_id": "e1654d3f40824cac8321d608870494dd",
       "version_major": 2,
       "version_minor": 0
      },
      "text/plain": [
       "A Jupyter Widget"
      ]
     },
     "metadata": {},
     "output_type": "display_data"
    },
    {
     "name": "stdout",
     "output_type": "stream",
     "text": [
      "\n",
      "Best fitness for generation 57 is 0.827956989247 and truntime = 0:00:04.133460\n"
     ]
    },
    {
     "data": {
      "application/vnd.jupyter.widget-view+json": {
       "model_id": "25803a8952234f06b54d8ec5ffe49424",
       "version_major": 2,
       "version_minor": 0
      },
      "text/plain": [
       "A Jupyter Widget"
      ]
     },
     "metadata": {},
     "output_type": "display_data"
    },
    {
     "name": "stdout",
     "output_type": "stream",
     "text": [
      "\n",
      "Best fitness for generation 58 is 0.827956989247 and truntime = 0:00:01.877632\n"
     ]
    },
    {
     "data": {
      "application/vnd.jupyter.widget-view+json": {
       "model_id": "739d513777ef4362b11dc17ea23db6be",
       "version_major": 2,
       "version_minor": 0
      },
      "text/plain": [
       "A Jupyter Widget"
      ]
     },
     "metadata": {},
     "output_type": "display_data"
    },
    {
     "name": "stdout",
     "output_type": "stream",
     "text": [
      "\n",
      "Best fitness for generation 59 is 0.827956989247 and truntime = 0:00:03.116015\n"
     ]
    },
    {
     "data": {
      "application/vnd.jupyter.widget-view+json": {
       "model_id": "314c5f5dec16462a9c26f911cbc7cbbe",
       "version_major": 2,
       "version_minor": 0
      },
      "text/plain": [
       "A Jupyter Widget"
      ]
     },
     "metadata": {},
     "output_type": "display_data"
    },
    {
     "name": "stdout",
     "output_type": "stream",
     "text": [
      "\n",
      "Best fitness for generation 60 is 0.827956989247 and truntime = 0:00:02.003105\n"
     ]
    },
    {
     "data": {
      "application/vnd.jupyter.widget-view+json": {
       "model_id": "df91eadd8ca047d99f9a3c524c50c638",
       "version_major": 2,
       "version_minor": 0
      },
      "text/plain": [
       "A Jupyter Widget"
      ]
     },
     "metadata": {},
     "output_type": "display_data"
    },
    {
     "name": "stdout",
     "output_type": "stream",
     "text": [
      "\n",
      "Best fitness for generation 61 is 0.827956989247 and truntime = 0:00:01.891417\n"
     ]
    },
    {
     "data": {
      "application/vnd.jupyter.widget-view+json": {
       "model_id": "c763bfc485274badbc98f40e73be118a",
       "version_major": 2,
       "version_minor": 0
      },
      "text/plain": [
       "A Jupyter Widget"
      ]
     },
     "metadata": {},
     "output_type": "display_data"
    },
    {
     "name": "stdout",
     "output_type": "stream",
     "text": [
      "\n",
      "Best fitness for generation 62 is 0.827956989247 and truntime = 0:00:00.740520\n"
     ]
    },
    {
     "data": {
      "application/vnd.jupyter.widget-view+json": {
       "model_id": "f12ed029fef34a9985798df8a666c732",
       "version_major": 2,
       "version_minor": 0
      },
      "text/plain": [
       "A Jupyter Widget"
      ]
     },
     "metadata": {},
     "output_type": "display_data"
    },
    {
     "name": "stdout",
     "output_type": "stream",
     "text": [
      "\n",
      "Best fitness for generation 63 is 0.827956989247 and truntime = 0:00:00.739043\n"
     ]
    },
    {
     "data": {
      "application/vnd.jupyter.widget-view+json": {
       "model_id": "5dddde6ba72842a9b737e02524cceb0e",
       "version_major": 2,
       "version_minor": 0
      },
      "text/plain": [
       "A Jupyter Widget"
      ]
     },
     "metadata": {},
     "output_type": "display_data"
    },
    {
     "name": "stdout",
     "output_type": "stream",
     "text": [
      "\n",
      "Best fitness for generation 64 is 0.827956989247 and truntime = 0:00:00.739735\n"
     ]
    },
    {
     "data": {
      "application/vnd.jupyter.widget-view+json": {
       "model_id": "c723276d15874396b19cab81622cf19c",
       "version_major": 2,
       "version_minor": 0
      },
      "text/plain": [
       "A Jupyter Widget"
      ]
     },
     "metadata": {},
     "output_type": "display_data"
    },
    {
     "name": "stdout",
     "output_type": "stream",
     "text": [
      "\n",
      "Best fitness for generation 65 is 0.827956989247 and truntime = 0:00:00.739859\n"
     ]
    },
    {
     "data": {
      "application/vnd.jupyter.widget-view+json": {
       "model_id": "be841ed3b3734115828bcfb3e93be3ff",
       "version_major": 2,
       "version_minor": 0
      },
      "text/plain": [
       "A Jupyter Widget"
      ]
     },
     "metadata": {},
     "output_type": "display_data"
    },
    {
     "name": "stdout",
     "output_type": "stream",
     "text": [
      "\n",
      "Best fitness for generation 66 is 0.827956989247 and truntime = 0:00:00.739740\n"
     ]
    },
    {
     "data": {
      "application/vnd.jupyter.widget-view+json": {
       "model_id": "16ea8397411e4e279a9ee14c747843e7",
       "version_major": 2,
       "version_minor": 0
      },
      "text/plain": [
       "A Jupyter Widget"
      ]
     },
     "metadata": {},
     "output_type": "display_data"
    },
    {
     "name": "stdout",
     "output_type": "stream",
     "text": [
      "\n",
      "Best fitness for generation 67 is 0.827956989247 and truntime = 0:00:00.740962\n"
     ]
    },
    {
     "data": {
      "application/vnd.jupyter.widget-view+json": {
       "model_id": "f0cba4906de94295a0eef259c6d759e9",
       "version_major": 2,
       "version_minor": 0
      },
      "text/plain": [
       "A Jupyter Widget"
      ]
     },
     "metadata": {},
     "output_type": "display_data"
    },
    {
     "name": "stdout",
     "output_type": "stream",
     "text": [
      "\n",
      "Best fitness for generation 68 is 0.827956989247 and truntime = 0:00:00.740986\n"
     ]
    },
    {
     "data": {
      "application/vnd.jupyter.widget-view+json": {
       "model_id": "9db9d18c5607480496e31defa84f67a3",
       "version_major": 2,
       "version_minor": 0
      },
      "text/plain": [
       "A Jupyter Widget"
      ]
     },
     "metadata": {},
     "output_type": "display_data"
    },
    {
     "name": "stdout",
     "output_type": "stream",
     "text": [
      "\n",
      "Best fitness for generation 69 is 0.827956989247 and truntime = 0:00:00.739708\n"
     ]
    },
    {
     "data": {
      "application/vnd.jupyter.widget-view+json": {
       "model_id": "c913ef65a2644d8bb3ef44566d291ef7",
       "version_major": 2,
       "version_minor": 0
      },
      "text/plain": [
       "A Jupyter Widget"
      ]
     },
     "metadata": {},
     "output_type": "display_data"
    },
    {
     "name": "stdout",
     "output_type": "stream",
     "text": [
      "\n",
      "Best fitness for generation 70 is 0.827956989247 and truntime = 0:00:01.875502\n"
     ]
    },
    {
     "data": {
      "application/vnd.jupyter.widget-view+json": {
       "model_id": "b48d4e7a5e4445f1b568d8b849888a1d",
       "version_major": 2,
       "version_minor": 0
      },
      "text/plain": [
       "A Jupyter Widget"
      ]
     },
     "metadata": {},
     "output_type": "display_data"
    },
    {
     "name": "stdout",
     "output_type": "stream",
     "text": [
      "\n",
      "Best fitness for generation 71 is 0.827956989247 and truntime = 0:00:02.000041\n"
     ]
    },
    {
     "data": {
      "application/vnd.jupyter.widget-view+json": {
       "model_id": "cb9978ef0e684e828e6a88d8e4dbc7fc",
       "version_major": 2,
       "version_minor": 0
      },
      "text/plain": [
       "A Jupyter Widget"
      ]
     },
     "metadata": {},
     "output_type": "display_data"
    },
    {
     "name": "stdout",
     "output_type": "stream",
     "text": [
      "\n",
      "Best fitness for generation 72 is 0.827956989247 and truntime = 0:00:00.742726\n"
     ]
    },
    {
     "data": {
      "application/vnd.jupyter.widget-view+json": {
       "model_id": "336f2c52e0c84aba8a322b969c5cb5e2",
       "version_major": 2,
       "version_minor": 0
      },
      "text/plain": [
       "A Jupyter Widget"
      ]
     },
     "metadata": {},
     "output_type": "display_data"
    },
    {
     "name": "stdout",
     "output_type": "stream",
     "text": [
      "\n",
      "Best fitness for generation 73 is 0.827956989247 and truntime = 0:00:00.757878\n"
     ]
    },
    {
     "data": {
      "application/vnd.jupyter.widget-view+json": {
       "model_id": "3347f39d13624035b23940321e8b0aec",
       "version_major": 2,
       "version_minor": 0
      },
      "text/plain": [
       "A Jupyter Widget"
      ]
     },
     "metadata": {},
     "output_type": "display_data"
    },
    {
     "name": "stdout",
     "output_type": "stream",
     "text": [
      "\n",
      "Best fitness for generation 74 is 0.827956989247 and truntime = 0:00:00.741041\n"
     ]
    },
    {
     "data": {
      "application/vnd.jupyter.widget-view+json": {
       "model_id": "2ed513477d124850832ccc4bcf736f43",
       "version_major": 2,
       "version_minor": 0
      },
      "text/plain": [
       "A Jupyter Widget"
      ]
     },
     "metadata": {},
     "output_type": "display_data"
    },
    {
     "name": "stdout",
     "output_type": "stream",
     "text": [
      "\n",
      "Best fitness for generation 75 is 0.827956989247 and truntime = 0:00:00.743344\n"
     ]
    },
    {
     "data": {
      "application/vnd.jupyter.widget-view+json": {
       "model_id": "dd96faaaf656455fbb207cda4f239c9b",
       "version_major": 2,
       "version_minor": 0
      },
      "text/plain": [
       "A Jupyter Widget"
      ]
     },
     "metadata": {},
     "output_type": "display_data"
    },
    {
     "name": "stdout",
     "output_type": "stream",
     "text": [
      "\n",
      "Best fitness for generation 76 is 0.827956989247 and truntime = 0:00:00.743816\n"
     ]
    },
    {
     "data": {
      "application/vnd.jupyter.widget-view+json": {
       "model_id": "466d01a7343e402d8613e3b85de76658",
       "version_major": 2,
       "version_minor": 0
      },
      "text/plain": [
       "A Jupyter Widget"
      ]
     },
     "metadata": {},
     "output_type": "display_data"
    },
    {
     "name": "stdout",
     "output_type": "stream",
     "text": [
      "\n",
      "Best fitness for generation 77 is 0.827956989247 and truntime = 0:00:00.742245\n"
     ]
    },
    {
     "data": {
      "application/vnd.jupyter.widget-view+json": {
       "model_id": "0c20225082b5499ab4ee8b6c2432d930",
       "version_major": 2,
       "version_minor": 0
      },
      "text/plain": [
       "A Jupyter Widget"
      ]
     },
     "metadata": {},
     "output_type": "display_data"
    },
    {
     "name": "stdout",
     "output_type": "stream",
     "text": [
      "\n",
      "Best fitness for generation 78 is 0.827956989247 and truntime = 0:00:00.742477\n"
     ]
    },
    {
     "data": {
      "application/vnd.jupyter.widget-view+json": {
       "model_id": "1d47d736dba940afb001b81b3f9dfaac",
       "version_major": 2,
       "version_minor": 0
      },
      "text/plain": [
       "A Jupyter Widget"
      ]
     },
     "metadata": {},
     "output_type": "display_data"
    },
    {
     "name": "stdout",
     "output_type": "stream",
     "text": [
      "\n",
      "Best fitness for generation 79 is 0.827956989247 and truntime = 0:00:00.741543\n"
     ]
    },
    {
     "data": {
      "application/vnd.jupyter.widget-view+json": {
       "model_id": "20e87080338f45778a9537c0b8b7cb43",
       "version_major": 2,
       "version_minor": 0
      },
      "text/plain": [
       "A Jupyter Widget"
      ]
     },
     "metadata": {},
     "output_type": "display_data"
    },
    {
     "name": "stdout",
     "output_type": "stream",
     "text": [
      "\n",
      "Best fitness for generation 80 is 0.827956989247 and truntime = 0:00:00.742980\n"
     ]
    },
    {
     "data": {
      "application/vnd.jupyter.widget-view+json": {
       "model_id": "2d4feea4169c455e931666e5479d0244",
       "version_major": 2,
       "version_minor": 0
      },
      "text/plain": [
       "A Jupyter Widget"
      ]
     },
     "metadata": {},
     "output_type": "display_data"
    },
    {
     "name": "stdout",
     "output_type": "stream",
     "text": [
      "\n",
      "Best fitness for generation 81 is 0.827956989247 and truntime = 0:00:00.742332\n"
     ]
    },
    {
     "data": {
      "application/vnd.jupyter.widget-view+json": {
       "model_id": "6085fb1e2ba54f239174c8a50059cd15",
       "version_major": 2,
       "version_minor": 0
      },
      "text/plain": [
       "A Jupyter Widget"
      ]
     },
     "metadata": {},
     "output_type": "display_data"
    },
    {
     "name": "stdout",
     "output_type": "stream",
     "text": [
      "\n",
      "Best fitness for generation 82 is 0.827956989247 and truntime = 0:00:00.738801\n"
     ]
    },
    {
     "data": {
      "application/vnd.jupyter.widget-view+json": {
       "model_id": "478e62aac9504407b29ec69d798fd081",
       "version_major": 2,
       "version_minor": 0
      },
      "text/plain": [
       "A Jupyter Widget"
      ]
     },
     "metadata": {},
     "output_type": "display_data"
    },
    {
     "name": "stdout",
     "output_type": "stream",
     "text": [
      "\n",
      "Best fitness for generation 83 is 0.827956989247 and truntime = 0:00:02.026116\n"
     ]
    },
    {
     "data": {
      "application/vnd.jupyter.widget-view+json": {
       "model_id": "5b9d22138c804e1f8a49af3bd11338f1",
       "version_major": 2,
       "version_minor": 0
      },
      "text/plain": [
       "A Jupyter Widget"
      ]
     },
     "metadata": {},
     "output_type": "display_data"
    },
    {
     "name": "stdout",
     "output_type": "stream",
     "text": [
      "\n",
      "Best fitness for generation 84 is 0.827956989247 and truntime = 0:00:00.742717\n"
     ]
    },
    {
     "data": {
      "application/vnd.jupyter.widget-view+json": {
       "model_id": "1d5c346c151a41f885eae47ae70ba50e",
       "version_major": 2,
       "version_minor": 0
      },
      "text/plain": [
       "A Jupyter Widget"
      ]
     },
     "metadata": {},
     "output_type": "display_data"
    },
    {
     "name": "stdout",
     "output_type": "stream",
     "text": [
      "\n",
      "Best fitness for generation 85 is 0.827956989247 and truntime = 0:00:00.741404\n"
     ]
    },
    {
     "data": {
      "application/vnd.jupyter.widget-view+json": {
       "model_id": "f3cdf4f107294d3aa7b79c363540312a",
       "version_major": 2,
       "version_minor": 0
      },
      "text/plain": [
       "A Jupyter Widget"
      ]
     },
     "metadata": {},
     "output_type": "display_data"
    },
    {
     "name": "stdout",
     "output_type": "stream",
     "text": [
      "\n",
      "Best fitness for generation 86 is 0.827956989247 and truntime = 0:00:00.741911\n"
     ]
    },
    {
     "data": {
      "application/vnd.jupyter.widget-view+json": {
       "model_id": "deeb99f29fed4435b8ed9be35c7caf0c",
       "version_major": 2,
       "version_minor": 0
      },
      "text/plain": [
       "A Jupyter Widget"
      ]
     },
     "metadata": {},
     "output_type": "display_data"
    },
    {
     "name": "stdout",
     "output_type": "stream",
     "text": [
      "\n",
      "Best fitness for generation 87 is 0.827956989247 and truntime = 0:00:00.784375\n"
     ]
    },
    {
     "data": {
      "application/vnd.jupyter.widget-view+json": {
       "model_id": "7d6919012c9145f3a0b552dd38e26f9a",
       "version_major": 2,
       "version_minor": 0
      },
      "text/plain": [
       "A Jupyter Widget"
      ]
     },
     "metadata": {},
     "output_type": "display_data"
    },
    {
     "name": "stdout",
     "output_type": "stream",
     "text": [
      "\n",
      "Best fitness for generation 88 is 0.827956989247 and truntime = 0:00:00.740011\n"
     ]
    },
    {
     "data": {
      "application/vnd.jupyter.widget-view+json": {
       "model_id": "a250bd622efc4340a6f0f4c831702182",
       "version_major": 2,
       "version_minor": 0
      },
      "text/plain": [
       "A Jupyter Widget"
      ]
     },
     "metadata": {},
     "output_type": "display_data"
    },
    {
     "name": "stdout",
     "output_type": "stream",
     "text": [
      "\n",
      "Best fitness for generation 89 is 0.827956989247 and truntime = 0:00:00.741225\n"
     ]
    },
    {
     "data": {
      "application/vnd.jupyter.widget-view+json": {
       "model_id": "030dca2fe8c8438fa72806c262cddc71",
       "version_major": 2,
       "version_minor": 0
      },
      "text/plain": [
       "A Jupyter Widget"
      ]
     },
     "metadata": {},
     "output_type": "display_data"
    },
    {
     "name": "stdout",
     "output_type": "stream",
     "text": [
      "\n",
      "Best fitness for generation 90 is 0.827956989247 and truntime = 0:00:00.740613\n"
     ]
    },
    {
     "data": {
      "application/vnd.jupyter.widget-view+json": {
       "model_id": "be18a6de1f3141e5a998b1950aae6bbd",
       "version_major": 2,
       "version_minor": 0
      },
      "text/plain": [
       "A Jupyter Widget"
      ]
     },
     "metadata": {},
     "output_type": "display_data"
    },
    {
     "name": "stdout",
     "output_type": "stream",
     "text": [
      "\n",
      "Best fitness for generation 91 is 0.827956989247 and truntime = 0:00:00.740388\n"
     ]
    },
    {
     "data": {
      "application/vnd.jupyter.widget-view+json": {
       "model_id": "d8b79a2f1ec348a4a304b33d0607f2c2",
       "version_major": 2,
       "version_minor": 0
      },
      "text/plain": [
       "A Jupyter Widget"
      ]
     },
     "metadata": {},
     "output_type": "display_data"
    },
    {
     "name": "stdout",
     "output_type": "stream",
     "text": [
      "\n",
      "Best fitness for generation 92 is 0.827956989247 and truntime = 0:00:00.743159\n"
     ]
    },
    {
     "data": {
      "application/vnd.jupyter.widget-view+json": {
       "model_id": "74ddb8709042458bb8ab31120b3095b7",
       "version_major": 2,
       "version_minor": 0
      },
      "text/plain": [
       "A Jupyter Widget"
      ]
     },
     "metadata": {},
     "output_type": "display_data"
    },
    {
     "name": "stdout",
     "output_type": "stream",
     "text": [
      "\n",
      "Best fitness for generation 93 is 0.827956989247 and truntime = 0:00:00.742857\n"
     ]
    },
    {
     "data": {
      "application/vnd.jupyter.widget-view+json": {
       "model_id": "283b957bfa354f96af4bfcdf3f2f908d",
       "version_major": 2,
       "version_minor": 0
      },
      "text/plain": [
       "A Jupyter Widget"
      ]
     },
     "metadata": {},
     "output_type": "display_data"
    },
    {
     "name": "stdout",
     "output_type": "stream",
     "text": [
      "\n",
      "Best fitness for generation 94 is 0.827956989247 and truntime = 0:00:00.741487\n"
     ]
    },
    {
     "data": {
      "application/vnd.jupyter.widget-view+json": {
       "model_id": "a5cb254642df4f58b2bb65c0a9371e7f",
       "version_major": 2,
       "version_minor": 0
      },
      "text/plain": [
       "A Jupyter Widget"
      ]
     },
     "metadata": {},
     "output_type": "display_data"
    },
    {
     "name": "stdout",
     "output_type": "stream",
     "text": [
      "\n",
      "Best fitness for generation 95 is 0.827956989247 and truntime = 0:00:02.999030\n"
     ]
    },
    {
     "data": {
      "application/vnd.jupyter.widget-view+json": {
       "model_id": "db3dd202fe0c424f80ea48c6c7140adf",
       "version_major": 2,
       "version_minor": 0
      },
      "text/plain": [
       "A Jupyter Widget"
      ]
     },
     "metadata": {},
     "output_type": "display_data"
    },
    {
     "name": "stdout",
     "output_type": "stream",
     "text": [
      "\n",
      "Best fitness for generation 96 is 0.827956989247 and truntime = 0:00:00.742599\n"
     ]
    },
    {
     "data": {
      "application/vnd.jupyter.widget-view+json": {
       "model_id": "f4fb9b8d681d45e5b0c232800d7c2bdd",
       "version_major": 2,
       "version_minor": 0
      },
      "text/plain": [
       "A Jupyter Widget"
      ]
     },
     "metadata": {},
     "output_type": "display_data"
    },
    {
     "name": "stdout",
     "output_type": "stream",
     "text": [
      "\n",
      "Best fitness for generation 97 is 0.827956989247 and truntime = 0:00:00.741542\n"
     ]
    },
    {
     "data": {
      "application/vnd.jupyter.widget-view+json": {
       "model_id": "5ce1548fb09f47d8aefcf336d8cd69f2",
       "version_major": 2,
       "version_minor": 0
      },
      "text/plain": [
       "A Jupyter Widget"
      ]
     },
     "metadata": {},
     "output_type": "display_data"
    },
    {
     "name": "stdout",
     "output_type": "stream",
     "text": [
      "\n",
      "Best fitness for generation 98 is 0.827956989247 and truntime = 0:00:00.742248\n"
     ]
    },
    {
     "data": {
      "application/vnd.jupyter.widget-view+json": {
       "model_id": "854688e9aa2648aba63126b2e6a27101",
       "version_major": 2,
       "version_minor": 0
      },
      "text/plain": [
       "A Jupyter Widget"
      ]
     },
     "metadata": {},
     "output_type": "display_data"
    },
    {
     "name": "stdout",
     "output_type": "stream",
     "text": [
      "\n",
      "Best fitness for generation 99 is 0.827956989247 and truntime = 0:00:00.743296\n"
     ]
    },
    {
     "data": {
      "application/vnd.jupyter.widget-view+json": {
       "model_id": "ea5eccee55bd40a5a723c38c776d1634",
       "version_major": 2,
       "version_minor": 0
      },
      "text/plain": [
       "A Jupyter Widget"
      ]
     },
     "metadata": {},
     "output_type": "display_data"
    },
    {
     "name": "stdout",
     "output_type": "stream",
     "text": [
      "\n",
      "Best fitness for generation 100 is 0.827956989247 and truntime = 0:00:00.741965\n"
     ]
    }
   ],
   "source": [
    "gen_best_performance = []\n",
    "while gen < n_gen:\n",
    "    \n",
    "    tg_1 = datetime.datetime.now()\n",
    "    \n",
    "    gen = gen+1\n",
    "    \n",
    "#    par_pool1 = tournament_selection(pop_df,n_child_needed,tournament_size)\n",
    "#    par_pool2 = tournament_selection(pop_df,n_child_needed,tournament_size)\n",
    "    \n",
    "    par_pool1 = ranking_selection(pop_df,n_child_needed)\n",
    "    par_pool2 = ranking_selection(pop_df,n_child_needed)\n",
    "    \n",
    "    child_pool = [uniform_crossover(par1,par2) for par1,par2 in zip(par_pool1['dna'].tolist(),\n",
    "                                    par_pool2['dna'].tolist())]\n",
    "    \n",
    "    # removing n lowest performing individuals where n is the number of children\n",
    "    pop_df = pop_df.sort_values(by='fitness',ascending=False)\n",
    "    pop_list = pop_df['dna'].tolist()[0:(n_pop-n_child_needed)]\n",
    "    \n",
    "    pop_list = pop_list + child_pool\n",
    "      \n",
    "    # Calculate fitness values\n",
    "    results = []\n",
    "    # initialize progress bar\n",
    "    pbar2 = tqdm(total=n_pop)\n",
    "\n",
    "    for pop_i in pop_list:\n",
    "\n",
    "        res_t = ga_catboost(pop_i)\n",
    "        results = results + [res_t]\n",
    "\n",
    "        pbar2.update(1)\n",
    "\n",
    "    pbar2.close()\n",
    "   \n",
    "    result_temp = pd.DataFrame(results,columns=result_col_list)\n",
    "    \n",
    "    result_df = result_df.append(result_temp)\n",
    "    result_df = result_df.drop_duplicates()\n",
    "    result_df = result_df.reset_index(drop=True)\n",
    "    \n",
    "    pop_df = result_temp[['dna','fitness']]\n",
    "    \n",
    "    tg_2 = datetime.datetime.now()\n",
    "    \n",
    "    print('Best fitness for generation ' + str(gen) + ' is ' + str(pop_df['fitness'].max()) + ' and truntime = ' + str(tg_2-tg_1))\n",
    "    gen_best_performance = gen_best_performance + [[gen,pop_df['fitness'].max()]]\n",
    "    "
   ]
  },
  {
   "cell_type": "code",
   "execution_count": 23,
   "metadata": {},
   "outputs": [
    {
     "name": "stdout",
     "output_type": "stream",
     "text": [
      "total time -> 0:19:45.973334\n"
     ]
    }
   ],
   "source": [
    "    \n",
    "t2 = datetime.datetime.now()\n",
    "\n",
    "print(\"total time -> \" + str(t2-t1))\n",
    "\n",
    "#    results = [pool.apply_async(ga_catboost, args=(x,)) for x in list(pop_df['population'])]\n",
    "#    final_result = [result.get() for result in results]    \n",
    "    "
   ]
  },
  {
   "cell_type": "code",
   "execution_count": null,
   "metadata": {},
   "outputs": [],
   "source": []
  },
  {
   "cell_type": "code",
   "execution_count": null,
   "metadata": {},
   "outputs": [],
   "source": []
  },
  {
   "cell_type": "code",
   "execution_count": null,
   "metadata": {},
   "outputs": [],
   "source": []
  }
 ],
 "metadata": {
  "kernelspec": {
   "display_name": "Python 3",
   "language": "python",
   "name": "python3"
  },
  "language_info": {
   "codemirror_mode": {
    "name": "ipython",
    "version": 3
   },
   "file_extension": ".py",
   "mimetype": "text/x-python",
   "name": "python",
   "nbconvert_exporter": "python",
   "pygments_lexer": "ipython3",
   "version": "3.5.3"
  },
  "projectdetails": {
   "creator_id": "agupt489",
   "notebook_id": "4a2e43c9-9a53-43a4-afc3-47a6d7316710",
   "notebook_name": "genetic algorithm.ipynb",
   "prod_sys": "",
   "project_desc": "",
   "project_id": "6cf1c28b-ea56-45fe-a4c2-28723b252916",
   "project_name": "titanic",
   "project_status": null,
   "status": "new"
  }
 },
 "nbformat": 4,
 "nbformat_minor": 2
}
