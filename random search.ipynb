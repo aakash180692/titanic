{
 "cells": [
  {
   "cell_type": "code",
   "execution_count": 1,
   "metadata": {},
   "outputs": [],
   "source": [
    "import math as math\n",
    "import pandas as pd\n",
    "import numpy as np\n",
    "from catboost import CatBoostClassifier\n",
    "import datetime\n",
    "import random as random\n",
    "from copy import deepcopy\n",
    "from tqdm import tqdm_notebook as tqdm\n",
    "from multiprocessing import Pool\n",
    "import time"
   ]
  },
  {
   "cell_type": "code",
   "execution_count": 2,
   "metadata": {},
   "outputs": [],
   "source": [
    "# data preparation\n",
    "test_data = pd.read_csv('test.csv')\n",
    "train_data = pd.read_csv('train.csv')\n",
    "gender_subm = pd.read_csv('gender_submission.csv')\n",
    "\n",
    "train_data['Cabin_letter'] = train_data.Cabin.str[0:1]\n",
    "test_data['Cabin_letter'] = test_data.Cabin.str[0:1]\n",
    "\n",
    "train_data.shape, test_data.shape\n",
    "\n",
    "msk = np.random.rand(len(train_data)) < 0.6\n",
    "train = train_data[msk]\n",
    "temp = train_data[~msk]\n",
    "\n",
    "msk2 = np.random.rand(len(temp)) < 0.5\n",
    "test = temp[msk2]\n",
    "val = temp[~msk2]\n",
    "\n",
    "X_train = train.drop(['PassengerId','Name', 'Ticket', 'Cabin','Survived'], axis=1)\n",
    "y_train = train['Survived']\n",
    "X_val = val.drop(['PassengerId','Name', 'Ticket', 'Cabin','Survived'], axis=1)\n",
    "y_val = val['Survived']\n",
    "X_test = test.drop(['PassengerId','Name', 'Ticket', 'Cabin','Survived'], axis=1)\n",
    "y_test = test['Survived']"
   ]
  },
  {
   "cell_type": "code",
   "execution_count": 3,
   "metadata": {},
   "outputs": [
    {
     "name": "stdout",
     "output_type": "stream",
     "text": [
      "['Sex', 'Embarked', 'Cabin_letter']\n",
      "[1, 6, 7]\n"
     ]
    }
   ],
   "source": [
    "# Get indices of categorical variables\n",
    "d_t = X_train.dtypes\n",
    "\n",
    "list_cat = [x for x in d_t[d_t == object].axes[0]]\n",
    "\n",
    "print(list_cat)\n",
    "\n",
    "cat_indices = [X_train.columns.tolist().index(col) for col in list_cat]\n",
    "print(cat_indices)"
   ]
  },
  {
   "cell_type": "code",
   "execution_count": 4,
   "metadata": {},
   "outputs": [],
   "source": [
    "# Filling null values with 0\n",
    "\n",
    "X_train = X_train.fillna(0)\n",
    "X_test = X_test.fillna(0)\n",
    "X_val = X_val.fillna(0)"
   ]
  },
  {
   "cell_type": "code",
   "execution_count": 5,
   "metadata": {},
   "outputs": [],
   "source": [
    "# catboost parameter\n",
    "n_tree = 100"
   ]
  },
  {
   "cell_type": "code",
   "execution_count": 6,
   "metadata": {},
   "outputs": [],
   "source": [
    "# list of parameters in format [parameter name, minimum value, maximum value, step size]\n",
    "num_param_list = [['rsm',0.5,1,2],\n",
    "                  ['depth',4,10,0],\n",
    "                  ['learning_rate',0.01,0.5,2],\n",
    "                  ['l2_leaf_reg',1,100,0]]"
   ]
  },
  {
   "cell_type": "code",
   "execution_count": 7,
   "metadata": {},
   "outputs": [],
   "source": [
    "param_df = pd.DataFrame(num_param_list, \n",
    "                        columns=['parameter_name', \n",
    "                                 'min_val',\n",
    "                                 'max_val',\n",
    "                                 'decimal_precision'])"
   ]
  },
  {
   "cell_type": "code",
   "execution_count": 8,
   "metadata": {},
   "outputs": [],
   "source": [
    "# result collection df\n",
    "hyper_param_list = list(param_df['parameter_name'])\n",
    "result_col_list = ['dna_str'] + hyper_param_list + ['accuracy']\n",
    "\n",
    "#results_df = pd.DataFrame(data=None,columns=result_col_list)"
   ]
  },
  {
   "cell_type": "code",
   "execution_count": 9,
   "metadata": {},
   "outputs": [],
   "source": [
    "t_a = datetime.datetime.now()\n",
    "\n",
    "def random_search_catboost(param_df):  \n",
    "    \n",
    "    hyper_param_str = ''\n",
    "    hyper_param_str_2 = ''\n",
    "    res_dict = {}\n",
    "    \n",
    "    parameter_list = []\n",
    "    param_val_list = []\n",
    "    \n",
    "    for i in range(param_df.shape[0]):\n",
    "        parameter = param_df.loc[i]['parameter_name']\n",
    "        parameter_list = parameter_list + [parameter]\n",
    "        \n",
    "        param_val = round(random.uniform(param_df.loc[i]['min_val'],param_df.loc[i]['max_val']), param_df.loc[i]['decimal_precision'])\n",
    "        \n",
    "        hyper_param_str = hyper_param_str + parameter + \"=\" + str(param_val) + \",\"\n",
    "        hyper_param_str_2 = hyper_param_str_2 + parameter + \"=\" + str(param_val) + \" and \"\n",
    "        res_dict[parameter] = param_val\n",
    "        param_val_list = param_val_list + [param_val]\n",
    "        \n",
    "    if (result_df[parameter_list] == np.array(param_val_list)).all(1).any():\n",
    "        accuracy = result_df[result_df.query(hyper_param_str_2)]['fitness'].tolist()[0]\n",
    "    else:\n",
    "        model = eval(\"CatBoostClassifier(iterations=\" + str(n_tree) + \",\" + hyper_param_str + \n",
    "                     \"random_seed=2,logging_level='Silent')\")\n",
    "        model.fit(X_train, y_train,cat_indices)\n",
    "    \n",
    "        # Predicitng and calculating performance on test data\n",
    "        predict_prob = model.predict_proba(X_test)[:,1]\n",
    "    \n",
    "        pred_list = [1 if i > 0.5 else 0 for i in predict_prob.tolist()]\n",
    "    \n",
    "        y_list = y_test.tolist()\n",
    "    \n",
    "        counter = 0\n",
    "        for i in range(len(pred_list)):\n",
    "            if pred_list[i] == y_list[i]:\n",
    "                counter = counter+1\n",
    "    \n",
    "        accuracy = counter/len(pred_list)\n",
    "    \n",
    "    res_dict['fitness'] = accuracy\n",
    "       \n",
    "    return res_dict"
   ]
  },
  {
   "cell_type": "code",
   "execution_count": null,
   "metadata": {
    "scrolled": true
   },
   "outputs": [
    {
     "data": {
      "application/vnd.jupyter.widget-view+json": {
       "model_id": "8a8743c8c1dd4aa293ecee47a09c32f6",
       "version_major": 2,
       "version_minor": 0
      },
      "text/plain": [
       "HBox(children=(IntProgress(value=0), HTML(value='')))"
      ]
     },
     "metadata": {},
     "output_type": "display_data"
    }
   ],
   "source": [
    "t1 = datetime.datetime.now()\n",
    "\n",
    "result_df = pd.DataFrame(columns=result_col_list)\n",
    "res_t = random_search_catboost(param_df)\n",
    "\n",
    "# number of random guesses\n",
    "num_rand = 100\n",
    "\n",
    "result_col_list = list(param_df['parameter_name']) + ['fitness']\n",
    "result_df = pd.DataFrame(columns=result_col_list)\n",
    "\n",
    "# initial run\n",
    "results = []\n",
    "\n",
    "# initialize progress bar\n",
    "pbar1 = tqdm(total=num_rand)\n",
    "\n",
    "for i in range(num_rand):\n",
    "    \n",
    "    res_t = random_search_catboost(param_df)\n",
    "    results = results + [res_t]\n",
    "    \n",
    "    pbar1.update(1)\n",
    "\n",
    "pbar1.close()\n",
    "\n",
    "result_temp = pd.DataFrame(results,columns=result_col_list)\n",
    "\n",
    "result_df = result_df.append(result_temp)\n",
    "result_df = result_df.drop_duplicates()\n",
    "result_df = result_df.reset_index(drop=True)\n",
    "\n",
    "result_df = result_df.sort_values(by='fitness',ascending = False).reset_index(drop=True)\n",
    "\n",
    "best_result = result_df.head(1)\n",
    "\n",
    "print(best_result)\n",
    "\n",
    "t2 = datetime.datetime.now()\n",
    "\n",
    "print(\"total time -> \" + str(t2-t1))\n",
    "\n",
    "#    results = [pool.apply_async(ga_catboost, args=(x,)) for x in list(pop_df['population'])]\n",
    "#    final_result = [result.get() for result in results]    \n",
    "    "
   ]
  },
  {
   "cell_type": "code",
   "execution_count": null,
   "metadata": {},
   "outputs": [],
   "source": []
  }
 ],
 "metadata": {
  "kernelspec": {
   "display_name": "Python 3",
   "language": "python",
   "name": "python3"
  },
  "language_info": {
   "codemirror_mode": {
    "name": "ipython",
    "version": 3
   },
   "file_extension": ".py",
   "mimetype": "text/x-python",
   "name": "python",
   "nbconvert_exporter": "python",
   "pygments_lexer": "ipython3",
   "version": "3.6.5"
  },
  "projectdetails": {
   "creator_id": "agupt489",
   "notebook_id": "28eca60a-36bd-4c9e-81ac-90098d5d051f",
   "notebook_name": "random search.ipynb",
   "prod_sys": "",
   "project_desc": "",
   "project_id": "6cf1c28b-ea56-45fe-a4c2-28723b252916",
   "project_name": "titanic",
   "project_status": null,
   "status": "new"
  }
 },
 "nbformat": 4,
 "nbformat_minor": 2
}
